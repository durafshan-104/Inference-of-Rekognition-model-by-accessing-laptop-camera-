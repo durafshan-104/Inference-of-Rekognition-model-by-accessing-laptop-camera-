{
 "cells": [
  {
   "cell_type": "code",
   "execution_count": null,
   "metadata": {},
   "outputs": [],
   "source": [
    "#import required libraries\n",
    "import PIL.Image\n",
    "import matplotlib.pyplot as plt\n",
    "import torch\n",
    "from torchvision import transforms"
   ]
  },
  {
   "cell_type": "code",
   "execution_count": null,
   "metadata": {},
   "outputs": [],
   "source": [
    "#open and read image by putting it's path. I have image in sagemaker notebook\n",
    "img = PIL.Image.open('/home/ec2-user/SageMaker/PyTorch-YOLOv3/image.jpg')\n",
    "\n",
    "#choose any of these augmentation techniques, you can also use multiple transformers on one image\n",
    "\n",
    "#crop your image from center, give crop value as argument \n",
    "loader_transform1 = transforms.CenterCrop(240)\n",
    "#For rotation of image, give degrees as rotation\n",
    "loader_transform2 = transforms.RandomRotation(90)\n",
    "#for horizontal flipping of image \n",
    "loader_transform3 = transforms.RandomHorizontalFlip(p=1)\n",
    "#for padding, it adds a thick border around image, arguments act as parameters of boarders\n",
    "loader_transform4 = transforms.Pad((8, 8, 8, 8))\n",
    "#for adjusting brightness of image\n",
    "loader_transform5 = transforms.ColorJitter(brightness=2)\n",
    "#for adjusting contrast of image\n",
    "loader_transform6 = transforms.ColorJitter(contrast=2)\n",
    "#for hue values\n",
    "loader_transform7 = transforms.ColorJitter(hue=0.2)\n",
    "#for resizing, width & height as arguments\n",
    "loader_transform8 = transforms.Resize((140, 140))\n",
    "\n",
    "#load image to loader, choose whatever loader you want, here i am rotating my image to 90 degrees\n",
    "augmented-image = loader_transform2(img)\n",
    "\n",
    "#for more than augmentation techniques on images\n",
    "# this will first crop image, then horizontal flip it and then adjust the hue of image \n",
    "img1 = loader_transform1(img)\n",
    "img2 = loader_transform3(img1)\n",
    "triple-augmented-image = loader_transform7(img2)\n",
    "\n",
    "#set margins to zero and axis to off\n",
    "plt.axis(\"off\")\n",
    "plt.margins(0,0)\n",
    "\n",
    "#show augmented image for first case, else put triple-augmented-image as argument\n",
    "plt.imshow(augmented-image)\n",
    "\n",
    "#save image, it's save in same folder where this notebook is in sagemaker. I selected name of image as \"augmented-photo\"\n",
    "my_dpi= 138\n",
    "plt.savefig(\"augmented-photo.jpg\", transparent = True, bbox_inches='tight', pad_inches=0,dpi=my_dpi)"
   ]
  }
 ],
 "metadata": {
  "kernelspec": {
   "display_name": "conda_pytorch_p36",
   "language": "python",
   "name": "conda_pytorch_p36"
  },
  "language_info": {
   "codemirror_mode": {
    "name": "ipython",
    "version": 3
   },
   "file_extension": ".py",
   "mimetype": "text/x-python",
   "name": "python",
   "nbconvert_exporter": "python",
   "pygments_lexer": "ipython3",
   "version": "3.6.10"
  }
 },
 "nbformat": 4,
 "nbformat_minor": 4
}
