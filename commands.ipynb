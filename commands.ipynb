{
 "cells": [
  {
   "cell_type": "code",
   "execution_count": null,
   "metadata": {},
   "outputs": [],
   "source": [
    "#when you are done with training and want to do inference you have to start the model\n",
    "#run this command in CLI to start specific model\n",
    "#pick your arn from the page where you can see model performance matrix\n",
    "\n",
    "!aws rekognition start-project-version --project-version-arn \"YOUR PROJECT ARN\" --min-inference-units 1 --region us-east-1"
   ]
  },
  {
   "cell_type": "code",
   "execution_count": null,
   "metadata": {},
   "outputs": [],
   "source": [
    "#To analyze image use this command\n",
    "#upload image to want to analyze in s3\n",
    "#run this command in CLI, get output as json format\n",
    "#for displying boxes use inference notebook\n",
    "#Replace MY_BUCKET and PATH_TO_MY_IMAGE with your S3 bucket name and image path.\n",
    "\n",
    "!aws rekognition detect-custom-labels --project-version-arn \"YOUR PROJECT ARN\" --image '{\"S3Object\": {\"Bucket\": \"MY_BUCKET\",\"Name\": \"PATH_TO_MY_IMAGE\"}}' --region us-east-1"
   ]
  },
  {
   "cell_type": "code",
   "execution_count": null,
   "metadata": {},
   "outputs": [],
   "source": [
    "#when done with working stop the model\n",
    "#at one time you can at a max of three models\n",
    "#Command used to stop the model\n",
    "!aws rekognition stop-project-version --project-version-arn \"YOUR PROJECT ARN\" --region us-east-1"
   ]
  },
  {
   "cell_type": "code",
   "execution_count": null,
   "metadata": {},
   "outputs": [],
   "source": [
    "#when after inference on each frame, you get a number of infered frames\n",
    "#to convert these images to video use this command\n",
    "\n",
    "#before this install ffmpeg \n",
    "!pip install ffmpeg\n",
    "\n",
    "#for images to video\n",
    "#frame rate is set as 25, you can put whatever you want\n",
    "#for all images in specific folder ends with jpg it's going to convert it into video\n",
    "#output.mp4 is name by which output video will be saved \n",
    "!ffmpeg -framerate 25 -pattern_type glob -i '*.jpg' -c:v libx264 -pix_fmt yuv420p output.mp4"
   ]
  }
 ],
 "metadata": {
  "kernelspec": {
   "display_name": "conda_python3",
   "language": "python",
   "name": "conda_python3"
  },
  "language_info": {
   "codemirror_mode": {
    "name": "ipython",
    "version": 3
   },
   "file_extension": ".py",
   "mimetype": "text/x-python",
   "name": "python",
   "nbconvert_exporter": "python",
   "pygments_lexer": "ipython3",
   "version": "3.6.10"
  }
 },
 "nbformat": 4,
 "nbformat_minor": 4
}
