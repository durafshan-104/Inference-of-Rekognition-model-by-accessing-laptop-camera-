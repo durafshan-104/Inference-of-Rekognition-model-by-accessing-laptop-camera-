{
 "cells": [
  {
   "cell_type": "code",
   "execution_count": null,
   "metadata": {},
   "outputs": [],
   "source": [
    "#import the required libraries\n",
    "from skimage import io, transform\n",
    "import os\n",
    "import matplotlib.pyplot as plt\n",
    "import torchvision.transforms as transforms\n",
    "%matplotlib inline"
   ]
  },
  {
   "cell_type": "code",
   "execution_count": null,
   "metadata": {},
   "outputs": [],
   "source": [
    "#read the image from specific path\n",
    "#put your image path as argument, here i do have image in sagemaker notebook\n",
    "image = io.imread(os.path.expanduser(\"~/SageMaker/Resize_folder/IMG.jpg\"))\n",
    "#show the image\n",
    "imgplot = plt.imshow(image)\n",
    "#print shape of image, mine was 3456*4608 before\n",
    "print(image.shape)"
   ]
  },
  {
   "cell_type": "code",
   "execution_count": null,
   "metadata": {},
   "outputs": [],
   "source": [
    "#read image from given path\n",
    "#put your image path as argument, here i do have image in sagemaker notebook\n",
    "image = io.imread(os.path.expanduser(\"~/SageMaker/Resize_folder/IMG.jpg\"))\n",
    "#print size of image\n",
    "print(image.shape)\n",
    "\n",
    "#put your required width and height, in this model i used all images resized to 416*416\n",
    "desired_h= 416\n",
    "desired_w= 416\n",
    "#resize your image to given size\n",
    "img = transform.resize(image, (desired_h, desired_w))\n",
    "\n",
    "#i don't want to disply axis and also set margins to zero, otherwise images will have axis or white portion around images\n",
    "plt.axis(\"off\")\n",
    "#print shape of image after resizing\n",
    "print(img.shape)\n",
    "plt.margins(0,0)\n",
    "\n",
    "#set your dpi according to your laptop, check online for your dpi, mine is macbook pro with dpi 138\n",
    "my_dpi= 138\n",
    "\n",
    "#display the image\n",
    "plt.imshow(img)\n",
    "\n",
    "#save the resized image, it is saved in same folder where this notebook is. You can give any desired name to this image\n",
    "#If you don't give different name to each image, it's going to overwrite the previous image\n",
    "plt.savefig(\"resized-image.jpg\", transparent = True, bbox_inches='tight', pad_inches=0,dpi=my_dpi)"
   ]
  }
 ],
 "metadata": {
  "kernelspec": {
   "display_name": "conda_pytorch_p36",
   "language": "python",
   "name": "conda_pytorch_p36"
  },
  "language_info": {
   "codemirror_mode": {
    "name": "ipython",
    "version": 3
   },
   "file_extension": ".py",
   "mimetype": "text/x-python",
   "name": "python",
   "nbconvert_exporter": "python",
   "pygments_lexer": "ipython3",
   "version": "3.6.10"
  }
 },
 "nbformat": 4,
 "nbformat_minor": 4
}
